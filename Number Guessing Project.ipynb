{
 "cells": [
  {
   "cell_type": "code",
   "execution_count": 5,
   "id": "f2968c2f",
   "metadata": {},
   "outputs": [
    {
     "name": "stdout",
     "output_type": "stream",
     "text": [
      "lets play a game\n",
      "enter the number: 50\n",
      "guess a number: 40\n",
      "the number is below the guessed number\n",
      "guess a number: 30\n",
      "the number is below the guessed number\n",
      "guess a number: 20\n",
      "the number is below the guessed number\n",
      "guess a number: 10\n",
      "the number is above the guessed number\n",
      "guess a number: 15\n",
      "the number is above the guessed number\n",
      "guess a number: 17\n",
      "the number is below the guessed number\n",
      "guess a number: 16\n",
      "You got in right!!!\n",
      "you got it in  7 guesses \n"
     ]
    }
   ],
   "source": [
    "import random\n",
    "print(\"lets play a game\")\n",
    "guesses = 0\n",
    "top_of_range = input(\"enter the number: \")\n",
    "if  top_of_range.isdigit():\n",
    "    top_of_range = int(top_of_range)\n",
    "    if top_of_range <=0:\n",
    "        print(\"Enter a number greater than 0\")\n",
    "else:\n",
    "    print(\"enter a valid number\")\n",
    "random_number = random.randint(0,top_of_range)\n",
    "\n",
    "while True:\n",
    "    guesses = guesses + 1\n",
    "    guessed_number = input(\"guess a number: \")\n",
    "    if  guessed_number.isdigit():\n",
    "        guessed_number = int(guessed_number)\n",
    "    else:\n",
    "        print(\"enter a valid number\")\n",
    "        continue\n",
    "    if guessed_number == random_number:\n",
    "        print(\"You got in right!!!\")\n",
    "        break\n",
    "    elif guessed_number < random_number:\n",
    "        print(\"the number is above the guessed number\")\n",
    "        continue\n",
    "    else:\n",
    "        print(\"the number is below the guessed number\")\n",
    "        continue\n",
    "print(\"you got it in  {} guesses \".format(guesses))"
   ]
  }
 ],
 "metadata": {
  "kernelspec": {
   "display_name": "Python 3 (ipykernel)",
   "language": "python",
   "name": "python3"
  },
  "language_info": {
   "codemirror_mode": {
    "name": "ipython",
    "version": 3
   },
   "file_extension": ".py",
   "mimetype": "text/x-python",
   "name": "python",
   "nbconvert_exporter": "python",
   "pygments_lexer": "ipython3",
   "version": "3.11.5"
  }
 },
 "nbformat": 4,
 "nbformat_minor": 5
}
